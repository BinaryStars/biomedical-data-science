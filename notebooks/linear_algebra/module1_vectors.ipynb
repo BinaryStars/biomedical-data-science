{
  "cells": [
    {
      "cell_type": "markdown",
      "id": "5594e3dd",
      "metadata": {
        "id": "5594e3dd"
      },
      "source": [
        "# Module 1: Vectors & Gene Expression (Single-Cell Focus)\n",
        "\n",
        "This notebook is part of the *Linear Algebra for Omics Data Science* series. It introduces vectors using **single-cell gene expression data** as a motivating example. You'll learn how to represent, visualize, and compare gene expression patterns using basic vector operations."
      ]
    },
    {
      "cell_type": "markdown",
      "id": "7e27ecd6",
      "metadata": {
        "id": "7e27ecd6"
      },
      "source": [
        "\n",
        "## 🧬 What is Gene Expression in Single-Cell Analysis?\n",
        "\n",
        "In single-cell transcriptomics, we measure how active each gene is in **individual cells** by counting RNA molecules. This gives us a high-resolution view of cellular diversity, enabling us to identify cell types, track development, or detect disease-related changes.\n",
        "\n",
        "Each gene’s expression across cells can be represented as a vector. These vectors are then analyzed using linear algebra tools to uncover patterns in cell behavior and gene activity.\n"
      ]
    },
    {
      "cell_type": "markdown",
      "id": "b3e9cd9a",
      "metadata": {
        "id": "b3e9cd9a"
      },
      "source": [
        "\n",
        "## What is a Vector?\n",
        "\n",
        "A vector is an ordered list of numbers. In single-cell gene expression, a vector typically represents the expression levels of a single gene across individual cells. More broadly, in omics, vectors can represent measured values of any biological feature — such as proteins or metabolites — across samples or conditions.\n"
      ]
    },
    {
      "cell_type": "code",
      "execution_count": null,
      "id": "e3afe11f",
      "metadata": {
        "id": "e3afe11f"
      },
      "outputs": [],
      "source": [
        "\n",
        "import numpy as np\n",
        "\n",
        "# Gene expression values for GeneA and GeneB across 5 single cells\n",
        "geneA_expr = np.array([2.1, 3.5, 1.8, 4.0, 2.9])\n",
        "geneB_expr = np.array([1.2, 3.3, 2.4, 3.8, 3.0])\n"
      ]
    },
    {
      "cell_type": "markdown",
      "id": "97189861",
      "metadata": {
        "id": "97189861"
      },
      "source": [
        "## Visualizing Gene Expression Across Cells\n",
        "Let's visualize how two genes behave across five single cells."
      ]
    },
    {
      "cell_type": "code",
      "execution_count": null,
      "id": "cbee8463",
      "metadata": {
        "id": "cbee8463"
      },
      "outputs": [],
      "source": [
        "\n",
        "import matplotlib.pyplot as plt\n",
        "\n",
        "plt.plot(geneA_expr, marker='o', label='GeneA')\n",
        "plt.plot(geneB_expr, marker='s', label='GeneB')\n",
        "plt.title(\"Gene Expression Across Single Cells\")\n",
        "plt.xlabel(\"Cell Index\")\n",
        "plt.ylabel(\"Expression Level\")\n",
        "plt.xticks(ticks=range(len(geneA_expr)), labels=[f\"Cell{i+1}\" for i in range(len(geneA_expr))])\n",
        "plt.legend()\n",
        "plt.grid(True)\n",
        "plt.show()\n"
      ]
    },
    {
      "cell_type": "markdown",
      "id": "3eb6f758",
      "metadata": {
        "id": "3eb6f758"
      },
      "source": [
        "\n",
        "##  Vector Operations in Single-Cell Gene Expression\n",
        "\n",
        "Once gene expression data is represented as vectors, we can apply vector operations to explore relationships between genes or cells. These operations help us:\n",
        "- Combine expression levels (e.g., summing two genes' activity)\n",
        "- Compare expression patterns (e.g., dot product, cosine similarity)\n",
        "- Prepare for dimensionality reduction or clustering\n"
      ]
    },
    {
      "cell_type": "markdown",
      "id": "400d1ce9",
      "metadata": {
        "id": "400d1ce9"
      },
      "source": [
        "###  Addition\n",
        "Adds the expression levels of two genes across the same cells."
      ]
    },
    {
      "cell_type": "code",
      "execution_count": null,
      "id": "3cfae4ca",
      "metadata": {
        "id": "3cfae4ca"
      },
      "outputs": [],
      "source": [
        "\n",
        "sum_expr = geneA_expr + geneB_expr\n",
        "print(\"Combined Expression (GeneA + GeneB):\", sum_expr)\n"
      ]
    },
    {
      "cell_type": "markdown",
      "id": "e12342c7",
      "metadata": {
        "id": "e12342c7"
      },
      "source": [
        "###  Dot Product\n",
        "Measures similarity in both pattern and magnitude. High values suggest co-expression."
      ]
    },
    {
      "cell_type": "code",
      "execution_count": null,
      "id": "65ebc6f9",
      "metadata": {
        "id": "65ebc6f9"
      },
      "outputs": [],
      "source": [
        "\n",
        "dot_product = np.dot(geneA_expr, geneB_expr)\n",
        "print(\"Dot Product:\", dot_product)\n"
      ]
    },
    {
      "cell_type": "markdown",
      "id": "61c6206a",
      "metadata": {
        "id": "61c6206a"
      },
      "source": [
        "\n",
        "###  Understanding the Dot Product in Gene Expression\n",
        "\n",
        "The **dot product** between two vectors is a way to measure how much they align, considering both their **direction** and their **magnitude**. Mathematically:\n",
        "\n",
        "\\[\n",
        "\\mathbf{A} \\cdot \\mathbf{B} = \\sum_{i=1}^{n} A_i \\cdot B_i\n",
        "\\]\n",
        "\n",
        "In the context of **single-cell gene expression**, the dot product between two gene vectors reflects how similarly and how strongly two genes are expressed across the same set of cells.\n",
        "\n",
        "---\n",
        "\n",
        "#### 🧬 What It Tells Us\n",
        "\n",
        "- A **high dot product** means both genes are **strongly** and **similarly** expressed in the same cells. High values align together.\n",
        "- A **small dot product** suggests:\n",
        "  - Expression levels may be low overall\n",
        "  - The genes might be active in **different cells**\n",
        "  - Or their patterns don’t align\n",
        "\n",
        "---\n",
        "\n",
        "#### 📊 Example (GeneA and GeneB across 5 cells)\n",
        "\n",
        "We compute:\n",
        "\n",
        "```python\n",
        "np.dot(geneA_expr, geneB_expr)\n",
        "```\n",
        "\n",
        "This performs:\n",
        "\n",
        "\\[\n",
        "2.1 \\cdot 1.2 + 3.5 \\cdot 3.3 + 1.8 \\cdot 2.4 + 4.0 \\cdot 3.8 + 2.9 \\cdot 3.0\n",
        "\\]\n",
        "\n",
        "It adds up the **cell-wise products**, giving more weight to cell pairs where **both genes are highly expressed**.\n",
        "\n",
        "---\n",
        "\n",
        "####  When is it useful?\n",
        "\n",
        "- To detect **co-expressed genes**\n",
        "- To find **correlated patterns**\n",
        "- As a building block for similarity, PCA, and other machine learning techniques\n"
      ]
    },
    {
      "cell_type": "code",
      "execution_count": null,
      "id": "e3c04131",
      "metadata": {
        "id": "e3c04131"
      },
      "outputs": [],
      "source": [
        "\n",
        "# Manual dot product step by step\n",
        "products = geneA_expr * geneB_expr\n",
        "print(\"Element-wise products:\", products)\n",
        "print(\"Dot product:\", np.sum(products))\n"
      ]
    },
    {
      "cell_type": "markdown",
      "id": "42672c91",
      "metadata": {
        "id": "42672c91"
      },
      "source": [
        "### 🔗 Cosine Similarity\n",
        "Measures similarity in expression trends regardless of magnitude."
      ]
    },
    {
      "cell_type": "code",
      "execution_count": null,
      "id": "09444333",
      "metadata": {
        "id": "09444333"
      },
      "outputs": [],
      "source": [
        "\n",
        "cos_sim = np.dot(geneA_expr, geneB_expr) / (np.linalg.norm(geneA_expr) * np.linalg.norm(geneB_expr))\n",
        "print(\"Cosine Similarity:\", cos_sim)\n"
      ]
    },
    {
      "cell_type": "markdown",
      "id": "dadeefad",
      "metadata": {
        "id": "dadeefad"
      },
      "source": [
        "\n",
        "### 🧮 How to Normalize a Gene Expression Vector\n",
        "\n",
        "To visualize cosine similarity, we first normalize the gene expression vectors so that they have a **length (norm) of 1**. This keeps the direction but removes the scale — turning them into **unit vectors**.\n",
        "\n",
        "Given a gene expression vector like:\n",
        "\n",
        "```python\n",
        "geneA_expr = np.array([2.1, 3.5, 1.8, 4.0, 2.9])\n",
        "```\n",
        "\n",
        "We compute its norm (length) as:\n",
        "\n",
        "\\[\n",
        "\\text{norm} = \\sqrt{2.1^2 + 3.5^2 + 1.8^2 + 4.0^2 + 2.9^2}\n",
        "\\]\n",
        "\n",
        "Then divide each value by that norm to create the unit vector:\n"
      ]
    },
    {
      "cell_type": "markdown",
      "id": "c21ce0d4",
      "metadata": {
        "id": "c21ce0d4"
      },
      "source": [
        "\n",
        "###  Visualizing Cosine Similarity\n",
        "\n",
        "We can visualize cosine similarity as the angle between two vectors. The closer the vectors point in the same direction, the smaller the angle and the higher the cosine similarity (close to 1).\n"
      ]
    },
    {
      "cell_type": "code",
      "execution_count": null,
      "id": "100c4e75",
      "metadata": {
        "id": "100c4e75"
      },
      "outputs": [],
      "source": [
        "\n",
        "import numpy as np\n",
        "\n",
        "geneA_expr = np.array([2.1, 3.5, 1.8, 4.0, 2.9])\n",
        "norm_geneA = np.linalg.norm(geneA_expr)\n",
        "print(\"Norm of geneA_expr:\", norm_geneA)\n",
        "\n",
        "v1 = geneA_expr / norm_geneA\n",
        "print(\"Normalized (unit) vector v1:\", v1)\n",
        "print(\"Length of v1:\", np.linalg.norm(v1))\n"
      ]
    },
    {
      "cell_type": "markdown",
      "id": "54625718",
      "metadata": {
        "id": "54625718"
      },
      "source": [
        "\n",
        "## Summary\n",
        "\n",
        "| Metric            | What it Measures          | Magnitude-Sensitive? | Use Case                            |\n",
        "|-------------------|----------------------------|-----------------------|-------------------------------------|\n",
        "| Dot Product       | Magnitude + Pattern        | ✅ Yes                | Find strongly co-expressed genes    |\n",
        "| Cosine Similarity | Direction/Pattern Only     | ❌ No                 | Identify similar expression trends  |\n"
      ]
    },
    {
      "cell_type": "markdown",
      "id": "54963cbe",
      "metadata": {
        "id": "54963cbe"
      },
      "source": [
        "\n",
        "### ⚠️ Note on 2D Visualization of Cosine Similarity\n",
        "\n",
        "In reality, gene expression vectors often live in high-dimensional space (e.g., 5D if measured across 5 cells). The **cosine similarity we calculate** uses **all dimensions**.\n",
        "\n",
        "However, to visualize the direction of vectors in a plot, we can only show 2D (or 3D). So we use **only the first two values** of each normalized vector to illustrate their alignment.\n",
        "\n",
        "This 2D projection is **approximate** — it's for building **intuition**, not an exact depiction of the angle used in cosine similarity.\n"
      ]
    },
    {
      "cell_type": "code",
      "execution_count": null,
      "id": "b8362a48",
      "metadata": {
        "id": "b8362a48"
      },
      "outputs": [],
      "source": [
        "\n",
        "from numpy.linalg import norm\n",
        "import matplotlib.pyplot as plt\n",
        "\n",
        "# Normalize vectors\n",
        "v1 = geneA_expr / norm(geneA_expr)\n",
        "v2 = geneB_expr / norm(geneB_expr)\n",
        "\n",
        "# Plot normalized vectors from origin\n",
        "plt.quiver(0, 0, v1[0], v1[1], angles='xy', scale_units='xy', scale=1, color='blue', label='GeneA (unit vector)')\n",
        "plt.quiver(0, 0, v2[0], v2[1], angles='xy', scale_units='xy', scale=1, color='orange', label='GeneB (unit vector)')\n",
        "\n",
        "plt.xlim(-1, 1)\n",
        "plt.ylim(-1, 1)\n",
        "plt.gca().set_aspect('equal')\n",
        "plt.grid(True)\n",
        "plt.title('Cosine Similarity Visualization (first 2D projection)')\n",
        "plt.legend()\n",
        "plt.show()\n"
      ]
    },
    {
      "cell_type": "code",
      "execution_count": null,
      "id": "7c0bb050",
      "metadata": {
        "id": "7c0bb050"
      },
      "outputs": [],
      "source": [
        "\n",
        "# Compare full cosine similarity vs. 2D projection\n",
        "cos_full = np.dot(geneA_expr, geneB_expr) / (norm(geneA_expr) * norm(geneB_expr))\n",
        "cos_2D = np.dot(geneA_expr[:2], geneB_expr[:2]) / (norm(geneA_expr[:2]) * norm(geneB_expr[:2]))\n",
        "\n",
        "print(\"Cosine similarity (full vector):\", cos_full)\n",
        "print(\"Cosine similarity (2D projection):\", cos_2D)\n"
      ]
    },
    {
      "cell_type": "markdown",
      "id": "c14e1a12",
      "metadata": {
        "id": "c14e1a12"
      },
      "source": [
        "\n",
        "---\n",
        "\n",
        "##   Vectors vs Matrices\n",
        "\n",
        "In this module, we focused on **vectors** — representing the expression of individual genes across single cells. Each gene’s expression across cells was a separate vector that we could analyze using linear algebra.\n",
        "\n",
        "However, in real datasets like those in the **Human Cell Atlas**, gene expression is stored as a **matrix**:\n",
        "\n",
        "- **Rows** = genes  \n",
        "- **Columns** = cells  \n",
        "- Each cell in the matrix = expression value of a gene in a single cell\n",
        "\n",
        "This matrix allows us to apply more advanced operations — like **dimensionality reduction (PCA)**, **clustering**, or **graph-based analyses** — by treating the entire dataset as a mathematical object.\n",
        "\n",
        "👉 In **Module 2**, we’ll work directly with gene expression matrices, explore their structure, and apply matrix-based techniques to reveal biological patterns.\n",
        "\n",
        "---\n"
      ]
    },
    {
      "cell_type": "markdown",
      "id": "c2964096",
      "metadata": {
        "id": "c2964096"
      },
      "source": [
        "\n",
        "## 🧪 Exercises\n",
        "\n",
        "1. Add a third gene vector and compare it with GeneA and GeneB.\n",
        "2. Visualize all three gene expression profiles.\n",
        "3. Compute cosine similarities between all pairs.\n",
        "4. Try these operations on rows of a real single-cell dataset (e.g., PBMC).\n"
      ]
    }
  ],
  "metadata": {
    "colab": {
      "provenance": []
    }
  },
  "nbformat": 4,
  "nbformat_minor": 5
}