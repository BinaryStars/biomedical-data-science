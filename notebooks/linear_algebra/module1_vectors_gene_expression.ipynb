{
 "cells": [
  {
   "cell_type": "markdown",
   "id": "f1906efe",
   "metadata": {},
   "source": [
    "# Module 1: Vectors & Gene Expression\n",
    "\n",
    "This notebook is part of the *Linear Algebra for Omics Data Science* series. It introduces vectors in the context of **gene expression**, with practical examples and biological motivation for data scientists exploring omics."
   ]
  },
  {
   "cell_type": "markdown",
   "id": "ab8b0d84",
   "metadata": {},
   "source": [
    "\n",
    "## 🧬 What is Gene Expression?\n",
    "\n",
    "Gene expression is the process by which information from a gene is used to produce a functional product, such as a protein. Although every cell in the human body contains the same DNA, each cell expresses a different subset of genes depending on its function and environment.\n",
    "\n",
    "In omics, gene expression is quantified as the number of RNA transcripts produced from each gene, often measured across many cells. These expression levels can be stored as vectors and matrices, allowing data scientists to analyze biological patterns using linear algebra.\n"
   ]
  },
  {
   "cell_type": "markdown",
   "id": "cebd977b",
   "metadata": {},
   "source": [
    "## What is a Vector?\n",
    "A vector is an ordered list of numbers.In the context of gene expression analysis, a vector often represents the expression levels of a single gene across several cells."
   ]
  },
  {
   "cell_type": "code",
   "execution_count": null,
   "id": "bc197ed2",
   "metadata": {},
   "outputs": [],
   "source": [
    "\n",
    "import numpy as np\n",
    "\n",
    "# Gene expression values for GeneA and GeneB across 5 cells\n",
    "geneA_expr = np.array([2.1, 3.5, 1.8, 4.0, 2.9])\n",
    "geneB_expr = np.array([1.2, 3.3, 2.4, 3.8, 3.0])\n"
   ]
  },
  {
   "cell_type": "markdown",
   "id": "3da100e3",
   "metadata": {},
   "source": [
    "## Visualizing Gene Expression"
   ]
  },
  {
   "cell_type": "code",
   "execution_count": null,
   "id": "608ffb03",
   "metadata": {},
   "outputs": [],
   "source": [
    "\n",
    "import matplotlib.pyplot as plt\n",
    "\n",
    "plt.plot(geneA_expr, marker='o', label='GeneA')\n",
    "plt.plot(geneB_expr, marker='s', label='GeneB')\n",
    "plt.title(\"GeneA and GeneB Expression Across Cells\")\n",
    "plt.xlabel(\"Cell Index\")\n",
    "plt.ylabel(\"Expression Level\")\n",
    "plt.legend()\n",
    "plt.grid(True)\n",
    "plt.show()\n"
   ]
  },
  {
   "cell_type": "markdown",
   "id": "1eedd478",
   "metadata": {},
   "source": [
    "\n",
    "##  Why Add Vectors?\n",
    "\n",
    "Adding two gene expression vectors models the combined expression of two genes, which can represent the overall activity of a pathway or co-regulated group. This is useful when studying genes that function together biologically.\n"
   ]
  },
  {
   "cell_type": "code",
   "execution_count": null,
   "id": "2428235a",
   "metadata": {},
   "outputs": [],
   "source": [
    "\n",
    "sum_expr = geneA_expr + geneB_expr\n",
    "print(\"Combined Expression (GeneA + GeneB):\", sum_expr)\n"
   ]
  },
  {
   "cell_type": "markdown",
   "id": "508b150b",
   "metadata": {},
   "source": [
    "\n",
    "##  Dot Product\n",
    "\n",
    "The dot product measures the overlap between two vectors in terms of both **magnitude** and **alignment**. In gene expression, a large dot product suggests two genes are highly and similarly expressed across cells.\n"
   ]
  },
  {
   "cell_type": "code",
   "execution_count": null,
   "id": "5e037c14",
   "metadata": {},
   "outputs": [],
   "source": [
    "\n",
    "dot_product = np.dot(geneA_expr, geneB_expr)\n",
    "print(\"Dot Product:\", dot_product)\n"
   ]
  },
  {
   "cell_type": "markdown",
   "id": "2acf1469",
   "metadata": {},
   "source": [
    "\n",
    "##  Cosine Similarity\n",
    "\n",
    "Cosine similarity measures **pattern similarity**, ignoring the scale (magnitude). It answers: _\"Do these genes behave similarly across cells, even if their expression levels differ?\"_\n"
   ]
  },
  {
   "cell_type": "code",
   "execution_count": null,
   "id": "c0362e99",
   "metadata": {},
   "outputs": [],
   "source": [
    "\n",
    "cos_sim = np.dot(geneA_expr, geneB_expr) / (np.linalg.norm(geneA_expr) * np.linalg.norm(geneB_expr))\n",
    "print(\"Cosine Similarity:\", cos_sim)\n"
   ]
  },
  {
   "cell_type": "markdown",
   "id": "395f3d03",
   "metadata": {},
   "source": [
    "\n",
    "## Summary\n",
    "\n",
    "| Metric            | What it Measures          | Magnitude-Sensitive? | Use Case                         |\n",
    "|-------------------|----------------------------|-----------------------|----------------------------------|\n",
    "| Dot Product       | Magnitude + Pattern        | ✅ Yes                | Detect strong co-expression      |\n",
    "| Cosine Similarity | Direction/Pattern Only     | ❌ No                 | Detect similar expression trends |\n"
   ]
  },
  {
   "cell_type": "markdown",
   "id": "9fcbbf57",
   "metadata": {},
   "source": [
    "\n",
    "## 🧪 Exercises\n",
    "\n",
    "1. Add a third gene vector and compare it with GeneA and GeneB.\n",
    "2. Visualize all three gene expression profiles in a single plot.\n",
    "3. Compute cosine similarities between all pairs.\n"
   ]
  }
 ],
 "metadata": {},
 "nbformat": 4,
 "nbformat_minor": 5
}
