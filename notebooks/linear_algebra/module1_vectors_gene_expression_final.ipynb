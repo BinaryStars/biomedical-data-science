{
 "cells": [
  {
   "cell_type": "markdown",
   "metadata": {},
   "source": [
    "# Module 1: Vectors & Gene Expression\n",
    "\n",
    "This notebook accompanies the blog post: \"How Linear Algebra Illuminates Gene Expression Patterns\".\n",
    "\n",
    "We'll explore how fundamental linear algebra concepts, specifically vectors and operations like addition, dot product, and cosine similarity, can be applied to understand gene expression data."
   ]
  },
  {
   "cell_type": "markdown",
   "metadata": {},
   "source": [
    "## ⚙️ Setup\n",
    "\n",
    "First, let's import the `numpy` library, which is essential for numerical computations in Python, especially when working with arrays (vectors and matrices)."
   ]
  },
  {
   "cell_type": "code",
   "execution_count": null,
   "metadata": {},
   "outputs": [],
   "source": [
    "import numpy as np"
   ]
  },
  {
   "cell_type": "markdown",
   "metadata": {},
   "source": [
    "## 🧬 Vectors: Your First Step Into Omics\n",
    "\n",
    "Gene expression data tells us which genes are active under certain conditions or in specific cell types. This data is naturally represented as **vectors and matrices**.\n",
    "\n",
    "Let’s say we measure the expression of **GeneA** across five different cells. We can represent this as a vector where each number is the gene's activity level in one cell."
   ]
  },
  {
   "cell_type": "code",
   "execution_count": null,
   "metadata": {},
   "outputs": [],
   "source": [
    "geneA = np.array([2.1, 3.5, 1.8, 4.0, 2.9])\n",
    "geneB = np.array([1.2, 3.3, 2.4, 3.8, 3.0])\n",
    "\n",
    "print(f\"Expression vector for GeneA: {geneA}\")\n",
    "print(f\"Expression vector for GeneB: {geneB}\")"
   ]
  },
  {
   "cell_type": "markdown",
   "metadata": {},
   "source": [
    "## ➕ Why Add Vectors?\n",
    "\n",
    "Adding vectors allows us to look at the **combined activity** of genes. This is particularly useful if GeneA and GeneB work together in a biological pathway, and we want to see their aggregate effect."
   ]
  },
  {
   "cell_type": "code",
   "execution_count": null,
   "metadata": {},
   "outputs": [],
   "source": [
    "combined_activity = geneA + geneB\n",
    "print(f\"Combined activity of GeneA and GeneB: {combined_activity}\")"
   ]
  },
  {
   "cell_type": "markdown",
   "metadata": {},
   "source": [
    "## 🎯 Dot Product vs. Cosine Similarity\n",
    "\n",
    "When comparing genes, two fundamental operations from linear algebra are the dot product and cosine similarity."
   ]
  },
  {
   "cell_type": "markdown",
   "metadata": {},
   "source": [
    "### Dot Product\n",
    "\n",
    "The dot product measures both the **magnitude and alignment** of the vectors. A higher dot product value means the genes are often **strongly expressed and in a similar pattern** across the cells.\n",
    "\n",
    "If $A = [a_1, a_2, ..., a_n]$ and $B = [b_1, b_2, ..., b_n]$, the dot product is $A \\cdot B = \\sum_{i=1}^{n} a_i b_i$."
   ]
  },
  {
   "cell_type": "code",
   "execution_count": null,
   "metadata": {},
   "outputs": [],
   "source": [
    "dot_product_AB = np.dot(geneA, geneB)\n",
    "print(f\"Dot product of GeneA and GeneB: {dot_product_AB:.2f}\")"
   ]
  },
  {
   "cell_type": "markdown",
   "metadata": {},
   "source": [
    "### Cosine Similarity\n",
    "\n",
    "Cosine similarity measures the **similarity in the pattern (or direction)** of gene expression, irrespective of their magnitudes (overall expression levels). It tells us if genes tend to increase or decrease their activity together across different conditions or cells. The value ranges from -1 (opposite patterns) to 1 (identical patterns), with 0 indicating no correlation in pattern.\n",
    "\n",
    "The formula is: \n",
    "$$\\text{Cosine Similarity} = \\frac{A \\cdot B}{\\|A\\| \\|B\\|} = \\frac{\\sum_{i=1}^{n} a_i b_i}{\\sqrt{\\sum_{i=1}^{n} a_i^2} \\sqrt{\\sum_{i=1}^{n} b_i^2}}$$"
   ]
  },
  {
   "cell_type": "code",
   "execution_count": null,
   "metadata": {},
   "outputs": [],
   "source": [
    "# Calculate norms (magnitudes) of the vectors\n",
    "norm_geneA = np.linalg.norm(geneA)\n",
    "norm_geneB = np.linalg.norm(geneB)\n",
    "\n",
    "# Calculate cosine similarity\n",
    "cosine_sim_AB = np.dot(geneA, geneB) / (norm_geneA * norm_geneB) \n",
    "# Alternative using the dot product already calculated:\n",
    "# cosine_sim_AB = dot_product_AB / (norm_geneA * norm_geneB)\n",
    "\n",
    "print(f\"Norm of GeneA: {norm_geneA:.2f}\")\n",
    "print(f\"Norm of GeneB: {norm_geneB:.2f}\")\n",
    "print(f\"Cosine Similarity between GeneA and GeneB: {cosine_sim_AB:.2f}\")"
   ]
  },
  {
   "cell_type": "markdown",
   "metadata": {},
   "source": [
    "### Summary Table\n",
    "\n",
    "| Metric              | Measures               | Scale Sensitive? | Use Case                         |\n",
    "|---------------------|------------------------|------------------|----------------------------------|\n",
    "| Dot Product         | Magnitude + Pattern    | ✅ Yes           | Strong co-expression             |\n",
    "| Cosine Similarity   | Pattern Only           | ❌ No            | Trend similarity                 |\n",
    ""
   ]
  },
  {
   "cell_type": "markdown",
   "metadata": {},
   "source": [
    "## 🧪 Try This Yourself\n",
    "\n",
    "Now it's your turn to apply these concepts:\n",
    "\n",
    "1.  **Add a third gene vector (`geneC`)**: \n",
    "    * Define `geneC` (e.g., `geneC = np.array([5.0, 1.5, 3.3, 2.1, 4.8])`).\n",
    "    * Calculate its dot product with `geneA` and `geneB`.\n",
    "    * Calculate its cosine similarity with `geneA` and `geneB`.\n",
    "    * How does `geneC` compare to `geneA` and `geneB` based on these metrics?\n",
    "\n",
    "2.  **Plot multiple expression patterns**:\n",
    "    * Use `matplotlib` to visualize the expression levels of `geneA`, `geneB`, and `geneC` across the five cells. This will give you a visual sense of their patterns.\n",
    "    * (Hint below if you need it)\n",
    "\n",
    "3.  **Calculate pairwise cosine similarities**:\n",
    "    * If you have `geneA`, `geneB`, and `geneC`, calculate the cosine similarity for all pairs: (A,B), (A,C), and (B,C). \n",
    "    * You could store these in a small matrix or just print them out. What do these pairwise comparisons tell you about the relationships between the three genes?"
   ]
  },
  {
   "cell_type": "code",
   "execution_count": null,
   "metadata": {},
   "outputs": [],
   "source": [
    "# Space for \"Try This Yourself\" - Task 1: Add geneC and perform calculations\n",
    "geneC = np.array([5.0, 1.5, 3.3, 2.1, 4.8]) # Example geneC\n",
    "\n",
    "# Dot products with geneC\n",
    "dot_product_AC = np.dot(geneA, geneC)\n",
    "dot_product_BC = np.dot(geneB, geneC)\n",
    "\n",
    "print(f\"Dot product of GeneA and GeneC: {dot_product_AC:.2f}\")\n",
    "print(f\"Dot product of GeneB and GeneC: {dot_product_BC:.2f}\")\n",
    "\n",
    "# Cosine similarities with geneC\n",
    "norm_geneC = np.linalg.norm(geneC)\n",
    "cosine_sim_AC = np.dot(geneA, geneC) / (norm_geneA * norm_geneC)\n",
    "cosine_sim_BC = np.dot(geneB, geneC) / (norm_geneB * norm_geneC)\n",
    "\n",
    "print(f\"Cosine Similarity between GeneA and GeneC: {cosine_sim_AC:.2f}\")\n",
    "print(f\"Cosine Similarity between GeneB and GeneC: {cosine_sim_BC:.2f}\")\n",
    "\n",
    "# You can add your interpretations here as comments"
   ]
  },
  {
   "cell_type": "code",
   "execution_count": null,
   "metadata": {},
   "outputs": [],
   "source": [
    "# Space for \"Try This Yourself\" - Task 2: Plot gene expression patterns\n",
    "import matplotlib.pyplot as plt\n",
    "\n",
    "cells = np.arange(1, len(geneA) + 1) # Assuming 5 cells, so x-axis is 1, 2, 3, 4, 5\n",
    "\n",
    "plt.figure(figsize=(10, 6))\n",