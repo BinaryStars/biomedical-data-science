{
 "cells": [
  {
   "cell_type": "markdown",
   "metadata": {},
   "source": [
    "# Module 1: Vectors & Gene Expression\n",
    "\n",
    "This notebook accompanies the blog post: \"How Linear Algebra Illuminates Gene Expression Patterns\".\n",
    "\n",
    "We'll explore how fundamental linear algebra concepts, specifically vectors and operations like addition, dot product, and cosine similarity, can be applied to understand gene expression data."
   ]
  },
  {
   "cell_type": "markdown",
   "metadata": {},
   "source": [
    "## ⚙️ Setup\n",
    "\n",
    "First, let's import the `numpy` library, which is essential for numerical computations in Python, especially when working with arrays (vectors and matrices)."
   ]
  },
  {
   "cell_type": "code",
   "execution_count": null,
   "metadata": {},
   "outputs": [],
   "source": [
    "import numpy as np"
   ]
  },
  {
   "cell_type": "markdown",
   "metadata": {},
   "source": [
    "## 🧬 Vectors: Your First Step Into Omics\n",
    "\n",
    "Gene expression data tells us which genes are active under certain conditions or in specific cell types. This data is naturally represented as **vectors and matrices**.\n",
    "\n",
    "Let’s say we measure the expression of **GeneA** across five different cells. We can represent this as a vector where each number is the gene's activity level in one cell."
   ]
  },
  {
   "cell_type": "code",
   "execution_count": null,
   "metadata": {},
   "outputs": [],
   "source": [
    "geneA = np.array([2.1, 3.5, 1.8, 4.0, 2.9])\n",
    "geneB = np.array([1.2, 3.3, 2.4, 3.8, 3.0])\n",
    "\n",
    "print(f\"Expression vector for GeneA: {geneA}\")\n",
    "print(f\"Expression vector for GeneB: {geneB}\")"
   ]
  },
  {
   "cell_type": "markdown",
   "metadata": {},
   "source": [
    "## ➕ Why Add Vectors?\n",
    "\n",
    "Adding vectors allows us to look at the **combined activity** of genes. This is particularly useful if GeneA and GeneB work together in a biological pathway, and we want to see their aggregate effect."
   ]
  },
  {
   "cell_type": "code",
   "execution_count": null,
   "metadata": {},
   "outputs": [],
   "source": [
    "combined_activity = geneA + geneB\n",
    "print(f\"Combined activity of GeneA and GeneB: {combined_activity}\")"
   ]
  },
  {
   "cell_type": "markdown",
   "metadata": {},
   "source": [
    "## 🎯 Dot Product vs. Cosine Similarity\n",
    "\n",
    "When comparing genes, two fundamental operations from linear algebra are the dot product and cosine similarity."
   ]
  },
  {
   "cell_type": "markdown",
   "metadata": {},
   "source": [
    "### Dot Product\n",
    "\n",
    "The dot product measures both the **magnitude and alignment** of the vectors. A higher dot product value means the genes are often **strongly expressed and in a similar pattern** across the cells.\n",
    "\n",
    "If <span class="math-inline">A \= \[a\_1, a\_2, \.\.\., a\_n\]</span> and <span class="math-inline">B \= \[b\_1, b\_2, \.\.\., b\_n\]</span>, the dot product is <span class="math-inline">A \\\\cdot B \= \\\\sum\_\{i\=1\}^\{n\} a\_i b\_i</span>."
   ]
  },
  {
   "cell_type": "code",
   "execution_count": null,
   "metadata": {},
   "outputs": [],
   "source": [
    "dot_product_AB = np.dot(geneA, geneB)\n",
    "print(f\"Dot product of GeneA and GeneB: {dot_product_AB:.2f}\")"
   ]
  },
  {
   "cell_type": "markdown",
   "metadata": {},
   "source": [
    "### Cosine Similarity\n",
    "\n",
    "Cosine similarity measures the **similarity in the pattern (or direction)** of gene expression, irrespective of their magnitudes (overall expression levels). It tells us if genes tend to increase or decrease their activity together across different conditions or cells. The value ranges from -1 (opposite patterns) to 1 (identical patterns), with 0 indicating no correlation in pattern.\n",
    "\n",